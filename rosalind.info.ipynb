{
 "cells": [
  {
   "cell_type": "code",
   "execution_count": 1,
   "metadata": {},
   "outputs": [],
   "source": [
    "import numpy as np\n",
    "import pandas as pd\n",
    "import requests\n",
    "import re\n",
    "import math\n",
    "\n",
    "def read_fasta(path, id = True):\n",
    "    with open(path) as f:\n",
    "        fasta_raw = f.read().split(\">\") #split every different sequence\n",
    "    \n",
    "    fasta = []\n",
    "    for i in fasta_raw:\n",
    "        a = i.split(\"\\n\")\n",
    "        if id == True: fasta.append(a[0]) #if you want ids in the array, 0 element is always the id\n",
    "        fasta.append(\"\".join(a[1:])) #all the rows after id contain the sequence\n",
    "    if id == True: fasta = fasta[1:] \n",
    "    return fasta[1:]"
   ]
  },
  {
   "cell_type": "markdown",
   "metadata": {},
   "source": [
    "# Counting DNA Nucleotides"
   ]
  },
  {
   "cell_type": "markdown",
   "metadata": {},
   "source": [
    "Given: A DNA string s of length at most 1000 nt.\n",
    "\n",
    "Return: Four integers (separated by spaces) counting the respective number of times that the symbols 'A', 'C', 'G', and 'T' occur in s.\n",
    "\n",
    "from http://rosalind.info/problems/dna/"
   ]
  },
  {
   "cell_type": "code",
   "execution_count": 3,
   "metadata": {},
   "outputs": [],
   "source": [
    "def count_nucleotides(seq):\n",
    "    seq = seq.lower()\n",
    "    counts = {\"a\":0,\"c\":0,\"g\":0,\"t\":0}\n",
    "    for i in range(len(seq)):\n",
    "        counts[seq[i]] += 1\n",
    "    return counts"
   ]
  },
  {
   "cell_type": "code",
   "execution_count": 4,
   "metadata": {},
   "outputs": [
    {
     "data": {
      "text/plain": [
       "'225 198 197 193'"
      ]
     },
     "execution_count": 4,
     "metadata": {},
     "output_type": "execute_result"
    }
   ],
   "source": [
    "with open(\"rosalind_dna.txt\") as f:\n",
    "    seq = f.readlines()[0].strip()\n",
    "\" \".join(str(i) for i in count_nucleotides(seq).values())"
   ]
  },
  {
   "cell_type": "markdown",
   "metadata": {},
   "source": [
    "# Transcribing DNA into RNA"
   ]
  },
  {
   "cell_type": "markdown",
   "metadata": {},
   "source": [
    "Given: A DNA string t having length at most 1000 nt.\n",
    "\n",
    "Return: The transcribed RNA string of t.\n",
    "\n",
    "from http://rosalind.info/problems/rna/"
   ]
  },
  {
   "cell_type": "code",
   "execution_count": 5,
   "metadata": {},
   "outputs": [],
   "source": [
    "def convert_to_rna(seq): #RNA has Uracil instead of Thymin\n",
    "    seq_rna = \"\"\n",
    "    for i in range(len(seq)):\n",
    "        if seq[i] == \"T\":\n",
    "            seq_rna += \"U\"\n",
    "        else:\n",
    "            seq_rna += seq[i]\n",
    "    return seq_rna"
   ]
  },
  {
   "cell_type": "code",
   "execution_count": 6,
   "metadata": {},
   "outputs": [
    {
     "data": {
      "text/plain": [
       "'UGUCCUCACGACCGAAGAGACUGCCGUAGGGUACCGACUGAUACUAUUGAUUCAUGUUGCGAUCUGCAUGUCUACAGCGUAAGAGAGAGCCAGGAUUCCUUACCAUGAUUGGCUCCAUCCUACAGACGCAAGUCGCUGCUACUGCGAACGAGAAGACCGAUUGUAACUGCUUUACUUGAGGAAAAAAAUUGACCAUCCACCAAUGAUCUGGGCAACAUGAUAUCCGGACUUGCUUGGUUGAUAGGGGGAUUGUAAUCGAUGGUGUAUGGGGCAGCUGCGAGCCUUCAGACCAAGGUCGAGAUCUGUAGUGAUUAAGGCACUAGCGCAGGACAUCUACGUAUCCAGCGGGUGGACACAGCGAUCCUUUAGGGAUCUUCGAAAUUGAGCCAUACGAUUGUUGGAAUGGCUGCCGCACAUCUGAUACAAGCUCAACGGGCGGCGAACCUAUUCUCCUUCAGAAGUAGCGGAAAAUAAGUGCUCGAUCUCGCUCUCGGCGUGUCAUUAACGCAGGUUCUACAGAACCGUGUGUUAUCGGCGACCCCCAUUGAUCGAUGGGCUGAAACUCUGUUAUAAAUGAAUUUCCCGAGCCUGGCCGAAAAACACAUAACUGCAGUUUGAAUAUAAUUGUGUGGCCAGUCUCAUGCGCCCGCCUGCUUAAACCGAUGUGCACUCGGUGGGCUGGUCAUGGUAACUUGCAGCCAAGCACCGUUUUCGAAUCUACCAGGACAAUAUACCGUUGAACUCGAGAGAGGGAAUAGAGGGUUCUAGGAUGAUACCAUUAAGCGCAUGGGCAAACGUAAGCGGGACGCGCAUUGAAUCUGGCAGAGGGCGGCAACGCUAAAGGCAACAAGAAGACGAACGAGCUGUACAUUACUCAAUAUACGACGCUCACGCGAUCUCGAUUUUCAUUGGCGAGCUCGCGUAGAAAGCUAGAUC'"
      ]
     },
     "execution_count": 6,
     "metadata": {},
     "output_type": "execute_result"
    }
   ],
   "source": [
    "with open(\"rosalind_rna.txt\") as f:\n",
    "    seq = f.readlines()[0].strip()\n",
    "\n",
    "convert_to_rna(seq)"
   ]
  },
  {
   "cell_type": "markdown",
   "metadata": {},
   "source": [
    "# Complementing a Strand of DNA"
   ]
  },
  {
   "cell_type": "markdown",
   "metadata": {},
   "source": [
    "Given: A DNA string s of length at most 1000 bp.\n",
    "\n",
    "Return: The reverse complement sc of s.\n",
    "\n",
    "from http://rosalind.info/problems/revc/"
   ]
  },
  {
   "cell_type": "code",
   "execution_count": 7,
   "metadata": {},
   "outputs": [],
   "source": [
    "def complementary(seq):\n",
    "    seq_comp = \"\"\n",
    "    complement = {\"A\":\"T\",\"C\":\"G\",\"G\":\"C\",\"T\":\"A\"}\n",
    "    for i in range(len(seq)):\n",
    "        seq_comp += complement[seq[i]] #changes nucleotide with complementary nucleotide\n",
    "    return seq_comp\n",
    "\n",
    "def reverse(seq):\n",
    "    return \"\".join([seq[-(i+1)] for i in range(len(seq))]) #goes backwards through the sequence\n",
    "\n",
    "def reverse_comp(seq): #combines complementary with reverse\n",
    "    seq_rev = reverse(seq)\n",
    "    seq_r_c = complementary(seq_rev)\n",
    "    return seq_r_c"
   ]
  },
  {
   "cell_type": "code",
   "execution_count": 8,
   "metadata": {},
   "outputs": [
    {
     "data": {
      "text/plain": [
       "'AGCGTCGCGTTTGTAGGCTTCGGGAGAACAAACAGACCAGTACTCAAACTGCGTGTTGACTCTCAGCGCGGACTTAATCTCGCTGGTCATTGTCTGATTGTCTGGAGAGGATTGCCACTTTCGAATGGTGCTGCACGAGCTATTTGATATGTCAGAGCACGCGTACACTCCGGATGCGAACGTAGGCGGTGTGCATTAGCCCATTGCTCGAGCGGTATGTGCATCCGTACCTGCGGCGGTGTTTGGCACGCGTCTGCCAGCTTGCACTTGTCCCCCACGCATCGGCTGAACACTGTACGAGGCTGTAACCGACTACGTTCAATGAACTAGATAGGTGATCCGTTTGCTTGGTAAGCGATCCCCCACTGCAATTGAGTTGAGCTGGAAGTGCTCCAGACCTTTTAGGGCGAGATAGTTGCGGAGAGCTGTTTCGTATGTTAAACATCGCGCGAATCATTGGTGTACTTTTAGTTATTGACCACGCCCACCCGTCTAATGTGATTATGAAAGAGCTGATCTGTAACCTCACCGGCCAACGAGTCGACCGGCGTTTGCGCAGCATGCGTGTTGAAATAGAGATGATTTATGGGCACAACCACAGACGCCTCGTTTTTGTACGGACAAACACAGAATCGTGGGACTCCTAAGATGAAAAGCAACGTATCTTGTGTACGTAGATCGAAGCACGCCCGAAGGTACTTTGATAGGGACCGTCCCAGGCGAAATCGTGCGCAGATTCTGCCGAACCCTGATGGACCATTAACTCGCGCATAGTCACACAGCGTTCTAAAATGTTCAACTCTCGTTACTACAATCTTCTT'"
      ]
     },
     "execution_count": 8,
     "metadata": {},
     "output_type": "execute_result"
    }
   ],
   "source": [
    "with open(\"rosalind_revc.txt\") as f:\n",
    "    seq = f.readlines()[0].strip()\n",
    "\n",
    "reverse_comp(seq)"
   ]
  },
  {
   "cell_type": "markdown",
   "metadata": {},
   "source": [
    "# Rabbits and Recurrence Relations"
   ]
  },
  {
   "cell_type": "markdown",
   "metadata": {},
   "source": [
    "Given: Positive integers n≤40 and k≤5.\n",
    "\n",
    "Return: The total number of rabbit pairs that will be present after n months, if we begin with 1 pair and in each generation, every pair of reproduction-age rabbits produces a litter of k rabbit pairs (instead of only 1 pair).\n",
    "\n",
    "from http://rosalind.info/problems/fib/"
   ]
  },
  {
   "cell_type": "code",
   "execution_count": 10,
   "metadata": {},
   "outputs": [],
   "source": [
    "def rabbits_fib(n,k): #n = length of experimen, k = number of offspring pairs a pair gets\n",
    "    adult = 1\n",
    "    kid = 0\n",
    "    for i in range(n-1):\n",
    "        tmp = kid\n",
    "        kid = adult * k\n",
    "        adult += tmp\n",
    "    return adult"
   ]
  },
  {
   "cell_type": "code",
   "execution_count": 11,
   "metadata": {},
   "outputs": [
    {
     "data": {
      "text/plain": [
       "2863311531"
      ]
     },
     "execution_count": 11,
     "metadata": {},
     "output_type": "execute_result"
    }
   ],
   "source": [
    "rabbits_fib(33,2)"
   ]
  },
  {
   "cell_type": "markdown",
   "metadata": {},
   "source": [
    "# Computing GC Content"
   ]
  },
  {
   "cell_type": "markdown",
   "metadata": {},
   "source": [
    "Given: At most 10 DNA strings in FASTA format (of length at most 1 kbp each).\n",
    "\n",
    "Return: The ID of the string having the highest GC-content, followed by the GC-content of that string. Rosalind allows for a default error of 0.001 in all decimal answers unless otherwise stated; please see the note on absolute error below.\n",
    "\n",
    "from http://rosalind.info/problems/gc/"
   ]
  },
  {
   "cell_type": "code",
   "execution_count": 12,
   "metadata": {},
   "outputs": [],
   "source": [
    "def gc(fasta):\n",
    "    gc_score_max = 0\n",
    "    for i in range(len(fasta)//2):\n",
    "        seq_id = fasta[2*i]\n",
    "        seq = fasta[2*i+1]\n",
    "        gc_score = gc_score_calc(seq)\n",
    "        if gc_score > gc_score_max: #looping through every gc score and getting the maximum\n",
    "            gc_score_max = gc_score\n",
    "            result = seq_id+\" \"+str(gc_score)\n",
    "    return result"
   ]
  },
  {
   "cell_type": "code",
   "execution_count": 13,
   "metadata": {},
   "outputs": [],
   "source": [
    "def gc_score_calc(seq): #score calculated: number of Gs and Cs in the sequence divided by the length of the sequence times 100\n",
    "    score = 0\n",
    "    for i in range(len(seq)):\n",
    "        if (seq[i] == \"C\") or (seq[i] == \"G\"):\n",
    "            score += 1\n",
    "    return (score/len(seq))*100 #returns percentage"
   ]
  },
  {
   "cell_type": "code",
   "execution_count": 14,
   "metadata": {},
   "outputs": [
    {
     "data": {
      "text/plain": [
       "'Rosalind_2255 52.25130890052356'"
      ]
     },
     "execution_count": 14,
     "metadata": {},
     "output_type": "execute_result"
    }
   ],
   "source": [
    "fasta = read_fasta(\"rosalind_gc.txt\")\n",
    "gc(fasta)"
   ]
  },
  {
   "cell_type": "markdown",
   "metadata": {},
   "source": [
    "# Counting Point Mutations"
   ]
  },
  {
   "cell_type": "markdown",
   "metadata": {},
   "source": [
    "Given: Two DNA strings s and t of equal length (not exceeding 1 kbp).\n",
    "\n",
    "Return: The Hamming distance dH(s,t).\n",
    "\n",
    "from http://rosalind.info/problems/hamm/"
   ]
  },
  {
   "cell_type": "code",
   "execution_count": 15,
   "metadata": {},
   "outputs": [],
   "source": [
    "def Hamming(s1, s2): #difference between two strings of equal length, calculated in total differences\n",
    "    if len(s1) != len(s2):\n",
    "        print(\"Strings not of equal length\")\n",
    "    else:\n",
    "        score = 0\n",
    "        for i in range(len(s1)):\n",
    "            if s1[i] != s2[i]:\n",
    "                score += 1\n",
    "        return score"
   ]
  },
  {
   "cell_type": "code",
   "execution_count": 16,
   "metadata": {},
   "outputs": [
    {
     "data": {
      "text/plain": [
       "488"
      ]
     },
     "execution_count": 16,
     "metadata": {},
     "output_type": "execute_result"
    }
   ],
   "source": [
    "with open(\"rosalind_hamm.txt\") as f:\n",
    "    file = f.readlines()\n",
    "\n",
    "seq1, seq2 = file\n",
    "Hamming(seq1, seq2)"
   ]
  },
  {
   "cell_type": "markdown",
   "metadata": {},
   "source": [
    "# Translating RNA into Protein"
   ]
  },
  {
   "cell_type": "markdown",
   "metadata": {},
   "source": [
    "Given: An RNA string s corresponding to a strand of mRNA (of length at most 10 kbp).\n",
    "\n",
    "Return: The protein string encoded by s.\n",
    "\n",
    "from http://rosalind.info/problems/prot/"
   ]
  },
  {
   "cell_type": "code",
   "execution_count": 17,
   "metadata": {},
   "outputs": [],
   "source": [
    "def to_protein(seq):\n",
    "    codons = {\"UUU\":\"F\", \"UUC\":\"F\", \"UUA\":\"L\", \"UUG\":\"L\",\n",
    "    \"UCU\":\"S\", \"UCC\":\"S\", \"UCA\":\"S\", \"UCG\":\"S\",\n",
    "    \"UAU\":\"Y\", \"UAC\":\"Y\", \"UAA\":\"STOP\", \"UAG\":\"STOP\",\n",
    "    \"UGU\":\"C\", \"UGC\":\"C\", \"UGA\":\"STOP\", \"UGG\":\"W\",\n",
    "    \"CUU\":\"L\", \"CUC\":\"L\", \"CUA\":\"L\", \"CUG\":\"L\",\n",
    "    \"CCU\":\"P\", \"CCC\":\"P\", \"CCA\":\"P\", \"CCG\":\"P\",\n",
    "    \"CAU\":\"H\", \"CAC\":\"H\", \"CAA\":\"Q\", \"CAG\":\"Q\",\n",
    "    \"CGU\":\"R\", \"CGC\":\"R\", \"CGA\":\"R\", \"CGG\":\"R\",\n",
    "    \"AUU\":\"I\", \"AUC\":\"I\", \"AUA\":\"I\", \"AUG\":\"M\",\n",
    "    \"ACU\":\"T\", \"ACC\":\"T\", \"ACA\":\"T\", \"ACG\":\"T\",\n",
    "    \"AAU\":\"N\", \"AAC\":\"N\", \"AAA\":\"K\", \"AAG\":\"K\",\n",
    "    \"AGU\":\"S\", \"AGC\":\"S\", \"AGA\":\"R\", \"AGG\":\"R\",\n",
    "    \"GUU\":\"V\", \"GUC\":\"V\", \"GUA\":\"V\", \"GUG\":\"V\",\n",
    "    \"GCU\":\"A\", \"GCC\":\"A\", \"GCA\":\"A\", \"GCG\":\"A\",\n",
    "    \"GAU\":\"D\", \"GAC\":\"D\", \"GAA\":\"E\", \"GAG\":\"E\",\n",
    "    \"GGU\":\"G\", \"GGC\":\"G\", \"GGA\":\"G\", \"GGG\":\"G\"}\n",
    "    \n",
    "    protein = \"\"\n",
    "    for i in range(len(seq)//3):\n",
    "        protein += codons[seq[3*i:3*i+3]]\n",
    "    return protein"
   ]
  },
  {
   "cell_type": "code",
   "execution_count": 18,
   "metadata": {},
   "outputs": [
    {
     "data": {
      "text/plain": [
       "'MLYSMSCTNRVTHGSELPACGRRFWSSTLKKRRPLSVLPLMSYACVRGQYYSLGCHVCEHLRRVSRCAIPDCDYPSQIPAALQHETRILFTCYPNYGMINSQMCIQVPVRTNETFQPNHVMHTSLENTKHTSHVGLRGESIHTRSEFYILPGYTGVEKFSLVADAKDPHGYTRIEVLPFLNGSHVPRGGGPRYNHRSLLKWLSCVFSFSHSCICLLSCVAAGLPAPRPSRRSRVAHRVIKCHGSFPLWHEHHCESLLYPGFGFRLVQIQSRFPDRDHRGLARNQSSPGRRYFEWRPRPRPPNSASAERSVDSISKVRALYNLPTYTDSSYWASLRTTACCKDRVTNCPPYGLRMLLTPKKDTPAVPAVTEPNGVSAVRIIKFSIQPVKRCPVWSNHEMHRHATLKAAVINIRKFKFTGVGSRPSAYTGELNPQSVRWSPVPPLSRHGHISGKFGHEQGDSGSIKTQVIDDTFAGACNFQATECHHKDVTTVLARTRRLSYFGTYGLTACFTRRSWCISNAARYQTRSDLGERLTGRESRPGPSSANLSRSIRFIRSVLFTGYTYLRQHSTDLYYAHTGCVGKSLMNLLDLSPIRHLGYLEYEPEALGSGCIHGLTSSRSFLPGASPQVSANNSAKVTSSSPVLQTEIFDHVNATPGTVQISQGLSIRAVVRFLAVTESYPAYLKLMDQNKRSEELLLKHTGSVQTRTYCTSASRLCRSGVASGLYQLARTFDRAITARQRRVLKLTSGTPDPVMKGMRALRTRARTACSTSWSSLIHVGLMEWTQTRHVPLSKHFPEPGNCAFILVVRSRDQQRPQATSGLPSQDKTWLECKIRKKKLSSSDKSSHGTPYPWSLSSLHTSFFPEIISTSNPVNLTWAHGPLFSQRYILVQVQGLLKVISSRTLPAIVIHIPHETNNGRSRLYLRDWENRLDYAFIQATVYEVADRLGCVLTGLGSDGHTTNLVAGSNPTARSQADQPRSIRNAHASKIVTMINHSSMRRSVAKRMDWPRDRLAGFSLVYYKSACDEDPPAVVKFLVPLHRQTIIGTSIMAAIFKIVESILMDSGSYENYPERGLVSQPRLYGTTTQTYGCEILSEQSRDENICSYGMIEILGRASSRTNSCSAVVATWVCIEFLFSRSRYGNANLLFPTEGLLHEPGHPGIVVVAPVNCRLLPEVVWTDPSLGLRKLLADMYNVIGTPGLVDRWTPRASEVPVHSSVFCSAHSDLIYTFFTSSDAYGRALTRRSMTNGLHFHGRSADWLSLQRQSLCNAVDGLAISLKSLSGGVRTVWAQLRPRPRIAGTAMVSSFCRRMSPPRVVLHTLGNTPPLLIADAWRCQRCSLSGVDSSTTPVLYEALAQVTTTRCGRAKLNLASSLLVRILYNHGRRHLFTAATAAVEADRVAYMIVLPRNQVQHCRQPSLCDPRTPVGRGDDLNHKLRSQEFINFANSGSVRFVCRTWGDHSPLPTVASQGRLSCIAYSGSCRKRGREVDSTLLKARRRFAQENTGRFILEITVERISNQLLRLLEDRKDGNRWLARCGGNCEQEANQLSLPDRSRSDFDKKSARASVSSVSTSELSPQEPWVTWVDRSATPAADSFYYFAHCLWLNINQRYTGTMAQHVVPVDNDRNPSPGPSGLRPCTPWRVKIVVTSGNPRTTGNLNYCRIWCTMRIREAGTNSELGLSIIAVGYRADTSVSNQAQTAKLLASLRKRLLWVPVAFSIDTPIFQWQNRLVATYARGAYDVAAEAYIVCQRLLLQVNSFQGKPQVTSILISCIILRSGLWTAIYRSTSLICTSHLLVWLYISHVENLLYWSSTFADRLLLHAFKLRPRTRRSDSRHCQQDSAKRGVEELFAMVRYDCNGIAHNCKVKRVLVGSNVLKFAAAALFSQRARRRTPAPLYCGPNPLSINARRICFLCLDALLFFVRKLISTGRGAPMPIMKSLFLRHSAIDLLVSVGAARICMPSPFSTRSGSKIHLQRSVFGGTQDLAFSIQYLSVFLYDSAGRMGRLDESESFTGSVKSVVLFTVNLAKNVSPIQESSVVAHESDRLVPDTSEVQVNGPQGIPVMEGLLLSTIEGGYFQTDILVCTNTLHLKCGTRTRLSGRYRIIKRSMRFWIVIDPYAQQFHRFYNLGLYQPVVRDFVCLEHTNYLPLPLGCPSRMSSIFLLRYTRIDFLRSDSHIVITCRVSLGRLTVRMDLRACVRRRATRYSPVAFTLEIQKSGILFQAEWGARHFLATPRVPGELKYQRGRCHCLSDEIKWTTWECHSGSSTLNSGRINSACILIIVADIEVYARRPQGWLTTRVGSGARCFVSLKQCDAAVGQPGASVAIGVIRLYGLSCCWITRQQIVGRKDFTIERGTPIVLFLRAWRLVNTLGAQPYRTERHVTVLLLRHAGARIPGGMYRNDHDDAGLLRWHRPALPLVRFKLTLKTVRQGEWCYYWPAGNSHWCTNGERGPFGCPQGIQRLTETERLGGSCTGNLGARPDSADGYCRPWCDSLRDRDHSRLAIAVIRLHYLGERTDLTDCMHYLVGDFMGASFLRLSKLHTRRFKPCDRLCICSLREVVAPRFLPVDPEIRSGIQIVRVARYMEVGKQSGCWPHLADSMRCVRKSKRWVTVGRKNAQLFWRSAPPRVYGRRRRALNGNQGIDTFAKTPERLTPSVKMLISNMFAQSVTLITYLVRRFSVIIRGYMLVRVELISGSLGLEPDYTKLPTFGTTIIMRTDEGGVIATSTSRSLWSVKISQAFKQWLSMGGPVGASSKCTIEGDGDVTPLTILNISDNWGPALRTDHYCEMLTTSASLTLGDRPKRRGRVLLIHNVTRGCVRLGLKIGRLGCTRIVTGILTVKHLVSILREAMPLKRPWLLGQRSRPGAVANISPCSSLMRSGTQQGEVRYQAVQVSHNGIVKLCCLPSSGDRGTEVKPGHPKPPDQIPMCWVHGTSTMRCCLLHDRLFGLSVILLINSSETLTCVAGLYGYLGGRFSLVDIRRIVRQTRTTHCHQVWTARGIKTLIIKMERSLSWAFNINRYQLNEAGADLTSGLAADWKIISVSDQRSHVLAKRLSTIIFVCYAPDLPPIPPSYSAYFAKYKEGCIPPTLGLSRKRTQSHPSAHAIAAILRIIYREILSIVPMFVATLRLSLMQARADLLPDCSTOP'"
      ]
     },
     "execution_count": 18,
     "metadata": {},
     "output_type": "execute_result"
    }
   ],
   "source": [
    "with open(\"rosalind_prot.txt\") as f:\n",
    "    seq = f.read()\n",
    "to_protein(seq)"
   ]
  },
  {
   "cell_type": "markdown",
   "metadata": {},
   "source": [
    "# Finding a Motif in DNA"
   ]
  },
  {
   "cell_type": "markdown",
   "metadata": {},
   "source": [
    "Given: Two DNA strings s and t (each of length at most 1 kbp).\n",
    "\n",
    "Return: All locations of t as a substring of s.\n",
    "\n",
    "from http://rosalind.info/problems/subs/"
   ]
  },
  {
   "cell_type": "code",
   "execution_count": 19,
   "metadata": {},
   "outputs": [],
   "source": [
    "def motif(seq,sub_seq):\n",
    "    len_sub_seq = len(sub_seq)\n",
    "    pos = []\n",
    "    for i in range(len(seq)-len_sub_seq+1):\n",
    "        if sub_seq == seq[i:i+len_sub_seq]: #if subsequence is equal to a substring of the sequence\n",
    "            pos.append(str(i+1))\n",
    "    return \" \".join(pos)\n",
    "            "
   ]
  },
  {
   "cell_type": "code",
   "execution_count": 20,
   "metadata": {},
   "outputs": [
    {
     "data": {
      "text/plain": [
       "'59 93 140 147 170 195 202 209 227 243 262 329 414 512 527 534 577 586 604 624 631 638 700 722'"
      ]
     },
     "execution_count": 20,
     "metadata": {},
     "output_type": "execute_result"
    }
   ],
   "source": [
    "with open(\"rosalind_subs.txt\") as f:\n",
    "    seq, sub_seq = f.readlines()\n",
    "\n",
    "seq = seq.strip()\n",
    "sub_seq = sub_seq.strip()\n",
    "motif(seq,sub_seq)"
   ]
  },
  {
   "cell_type": "markdown",
   "metadata": {},
   "source": [
    "# Consensus and Profile"
   ]
  },
  {
   "cell_type": "markdown",
   "metadata": {},
   "source": [
    "Given: A collection of at most 10 DNA strings of equal length (at most 1 kbp) in FASTA format.\n",
    "\n",
    "Return: A consensus string and profile matrix for the collection. (If several possible consensus strings exist, then you may return any one of them.)\n",
    "\n",
    "from http://rosalind.info/problems/cons/"
   ]
  },
  {
   "cell_type": "code",
   "execution_count": 22,
   "metadata": {},
   "outputs": [],
   "source": [
    "def pos_count_matrix(fasta):\n",
    "    matrix = [{\"A\":0,\"C\":0,\"G\":0,\"T\":0} for i in range(len(fasta[0]))] #array of dictionaries for every position (every sequence same length)\n",
    "    for i in range(len(fasta[0])): #for every position\n",
    "        for j in range(len(fasta)): #for every sequence\n",
    "            matrix[i][fasta[j][i]] += 1\n",
    "    return matrix\n",
    "\n",
    "def cons(fasta): #consensus sequence (nucleotide that appears most at every position form a sequence)\n",
    "    matrix = pos_count_matrix(fasta)\n",
    "    cons_seq = \"\"\n",
    "    a = \"\"\n",
    "    c = \"\"\n",
    "    g = \"\"\n",
    "    t = \"\"\n",
    "    for i in matrix:\n",
    "        cons_seq += max(i, key = i.get) #nuc that appears most at position i\n",
    "        a += \" \"+str(i[\"A\"]) #how often \"A\" appears at every position\n",
    "        c += \" \"+str(i[\"C\"]) #how often \"C\" appears...\n",
    "        g += \" \"+str(i[\"G\"])\n",
    "        t += \" \"+str(i[\"T\"])\n",
    "    cons_seq += \"\\n\"+\"A:\"+a+\"\\n\"+\"C:\"+c+\"\\n\"+\"G:\"+g+\"\\n\"+\"T:\"+t\n",
    "    return cons_seq"
   ]
  },
  {
   "cell_type": "code",
   "execution_count": 23,
   "metadata": {},
   "outputs": [
    {
     "name": "stdout",
     "output_type": "stream",
     "text": [
      "ATGCAACT\n",
      "A: 5 1 0 0 5 5 0 0\n",
      "C: 0 0 1 4 2 0 6 1\n",
      "G: 1 1 6 3 0 1 0 0\n",
      "T: 1 5 0 0 0 1 1 6\n"
     ]
    }
   ],
   "source": [
    "print(cons(read_fasta(\"rosalind_cons.txt\", id = False)))"
   ]
  },
  {
   "cell_type": "markdown",
   "metadata": {},
   "source": [
    "# Mortal Fibonacci Rabbits"
   ]
  },
  {
   "cell_type": "markdown",
   "metadata": {},
   "source": [
    "Given: Positive integers n≤100 and m≤20.\n",
    "\n",
    "Return: The total number of pairs of rabbits that will remain after the n-th month if all rabbits live for m months.\n",
    "\n",
    "from http://rosalind.info/problems/fibd/"
   ]
  },
  {
   "cell_type": "code",
   "execution_count": 24,
   "metadata": {},
   "outputs": [],
   "source": [
    "def mortal_rabbits(n,m): #n = number of generations, m = age of rabbit\n",
    "    rabbits = [0 for i in range(m)] #array length = age of rabbit, the number of rabbits of a certain age are saved in each field\n",
    "    rabbits[0] = 1 #1 rabbit pair in first gen\n",
    "    for i in range(n-1):\n",
    "        rabbits_tmp = [0 for i in range(len(rabbits))]\n",
    "        rabbits_tmp[0] = sum(rabbits[1:]) #all older than 1 month rabbits get a newborn\n",
    "        rabbits_tmp[1:] = rabbits[:-1] #every rabbit except the oldest, who die, gets one year older\n",
    "        rabbits = rabbits_tmp\n",
    "    return sum(rabbits)"
   ]
  },
  {
   "cell_type": "code",
   "execution_count": 25,
   "metadata": {},
   "outputs": [
    {
     "data": {
      "text/plain": [
       "99004939834513404"
      ]
     },
     "execution_count": 25,
     "metadata": {},
     "output_type": "execute_result"
    }
   ],
   "source": [
    "mortal_rabbits(83,20)"
   ]
  },
  {
   "cell_type": "markdown",
   "metadata": {},
   "source": [
    "# Overlap Graphs"
   ]
  },
  {
   "cell_type": "markdown",
   "metadata": {},
   "source": [
    "Given: A collection of DNA strings in FASTA format having total length at most 10 kbp.\n",
    "\n",
    "Return: The adjacency list corresponding to O3. You may return edges in any order.\n",
    "\n",
    "from http://rosalind.info/problems/grph/"
   ]
  },
  {
   "cell_type": "code",
   "execution_count": 26,
   "metadata": {},
   "outputs": [],
   "source": [
    "def ovlp_graph(fasta):\n",
    "    graph = \"\"\n",
    "    for i in range(len(fasta)//2): #//2 since half elements in fasta are ids\n",
    "        for j in range(len(fasta)//2):\n",
    "            if i != j: #if it's not the identical sequence\n",
    "                suf = fasta[2*i+1][-3:] \n",
    "                pref = fasta[2*j+1][:3]\n",
    "                if suf == pref: #compare suffix and prefix\n",
    "                    graph += fasta[2*i]+\" \"+fasta[2*j]+\"\\n\"\n",
    "    return graph"
   ]
  },
  {
   "cell_type": "code",
   "execution_count": 27,
   "metadata": {},
   "outputs": [
    {
     "name": "stdout",
     "output_type": "stream",
     "text": [
      "Rosalind_0498 Rosalind_2391\n",
      "Rosalind_0498 Rosalind_0442\n",
      "Rosalind_2391 Rosalind_2323\n",
      "\n"
     ]
    }
   ],
   "source": [
    "print(ovlp_graph(read_fasta(\"rosalind_grph.txt\")))"
   ]
  },
  {
   "cell_type": "markdown",
   "metadata": {},
   "source": [
    "# Calculating Expected Offspring"
   ]
  },
  {
   "cell_type": "markdown",
   "metadata": {},
   "source": [
    "Given: Six nonnegative integers, each of which does not exceed 20,000. The integers correspond to the number of couples in a population possessing each genotype pairing for a given factor. In order, the six given integers represent the number of couples having the following genotypes:\n",
    "\n",
    "AA-AA, \n",
    "AA-Aa, \n",
    "AA-aa, \n",
    "Aa-Aa, \n",
    "Aa-aa, \n",
    "aa-aa.\n",
    "\n",
    "Return: The expected number of offspring displaying the dominant phenotype in the next generation, under the assumption that every couple has exactly two offspring.\n",
    "\n",
    "from http://rosalind.info/problems/iev/"
   ]
  },
  {
   "cell_type": "code",
   "execution_count": 28,
   "metadata": {},
   "outputs": [],
   "source": [
    "def expt_offspr(a,b,c,d,e,f): #a,b,c have 2 dominant offspring while d and e have 1.5 dominant offspring on average\n",
    "    return 2*(a+b+c)+1.5*d+e"
   ]
  },
  {
   "cell_type": "code",
   "execution_count": 29,
   "metadata": {},
   "outputs": [
    {
     "data": {
      "text/plain": [
       "152186.5"
      ]
     },
     "execution_count": 29,
     "metadata": {},
     "output_type": "execute_result"
    }
   ],
   "source": [
    "with open(\"rosalind_iev.txt\") as f:\n",
    "    a,b,c,d,e,f = [int(i) for i in f.read().split()]\n",
    "expt_offspr(a,b,c,d,e,f)"
   ]
  },
  {
   "cell_type": "markdown",
   "metadata": {},
   "source": [
    "# Finding a Shared Motif"
   ]
  },
  {
   "cell_type": "markdown",
   "metadata": {},
   "source": [
    "Given: A collection of k (k≤100) DNA strings of length at most 1 kbp each in FASTA format.\n",
    "\n",
    "Return: A longest common substring of the collection. (If multiple solutions exist, you may return any single solution.)\n",
    "\n",
    "from http://rosalind.info/problems/lcsm/"
   ]
  },
  {
   "cell_type": "code",
   "execution_count": 30,
   "metadata": {},
   "outputs": [],
   "source": [
    "def enumerations(string): #returns all possible enumerations of a string\n",
    "    enums = []\n",
    "    for i in range(len(string)-1):\n",
    "        for j in range(i+1):\n",
    "            enums.append(string[j:len(string)+j-i])\n",
    "    return enums "
   ]
  },
  {
   "cell_type": "code",
   "execution_count": 31,
   "metadata": {},
   "outputs": [],
   "source": [
    "def shortest_pos(fasta): #returns shortest sequence and position in the fasta file\n",
    "    shortest = fasta[0]\n",
    "    pos = 0\n",
    "    for i in range(1,len(fasta)):\n",
    "        if len(fasta[i]) < len(shortest):\n",
    "            shortest = fasta[i]\n",
    "            pos = i\n",
    "    return [shortest, pos]\n",
    "\n",
    "def enumerations(string): #returns all possible enumerations of a string that are longer than one char\n",
    "    enums = []\n",
    "    for i in range(len(string)-1):\n",
    "        for j in range(i+1):\n",
    "            enums.append(string[j:len(string)+j-i])\n",
    "    return enums            \n",
    "\n",
    "def lcsm(fasta):\n",
    "    shortest, pos = shortest_pos(fasta)\n",
    "    short_enum = enumerations(shortest)\n",
    "    for i in short_enum:\n",
    "        counter = 0\n",
    "        for j in range(len(fasta)): #look for this enumeration in all the other sequences in the fasta file\n",
    "            if pos != j:\n",
    "                if i not in fasta[j]: #no match: break for this enumeration and try the next one\n",
    "                    break\n",
    "                else:\n",
    "                    counter += 1\n",
    "        if counter == len(fasta)-1: #if there are matches in every sequence from the file return this enumeration\n",
    "            return i\n",
    "    return \"no shared motif\""
   ]
  },
  {
   "cell_type": "code",
   "execution_count": 32,
   "metadata": {},
   "outputs": [
    {
     "data": {
      "text/plain": [
       "'TATGCTGTAGTATTCTAACGCCAGAAGCAAGATCTTCTCCATTCGTAAACGTACGTGATGGTCTGCATGCGGTCTCCTTTTGGCTATGGGGAGGGATAACGCAACCGCTTCCTGACAGGTGTCACGCCAGTGTCT'"
      ]
     },
     "execution_count": 32,
     "metadata": {},
     "output_type": "execute_result"
    }
   ],
   "source": [
    "fasta = read_fasta(\"rosalind_lcsm.txt\", id = False)\n",
    "lcsm(fasta)"
   ]
  },
  {
   "cell_type": "markdown",
   "metadata": {},
   "source": [
    "# Finding a Protein Motif"
   ]
  },
  {
   "cell_type": "markdown",
   "metadata": {},
   "source": [
    "Given: At most 15 UniProt Protein Database access IDs.\n",
    "\n",
    "Return: For each protein possessing the N-glycosylation motif, output its given access ID followed by a list of locations in the protein string where the motif can be found.\n",
    "\n",
    "from http://rosalind.info/problems/mprt/"
   ]
  },
  {
   "cell_type": "code",
   "execution_count": 33,
   "metadata": {},
   "outputs": [],
   "source": [
    "def getSeq_UniProt(id): #returns sequence from the id\n",
    "    page = requests.get('https://www.uniprot.org/uniprot/'+str(id)+\".fasta\")\n",
    "    page.raise_for_status()\n",
    "    lines = page.text.split(\"\\n\")\n",
    "    return \"\".join(lines[1:])"
   ]
  },
  {
   "cell_type": "code",
   "execution_count": 34,
   "metadata": {},
   "outputs": [],
   "source": [
    "def Brute_Motif(seq): #brute force algorithm: searching for the prosite pattern N{P}[ST]{P} which is the sequence N, not a P, S or T and not a P\n",
    "    pos = [] #all found matches will be saved in this array\n",
    "    for i in range(len(seq)-3):\n",
    "        if (seq[i]==\"N\") and (seq[i+1]!=\"P\") and ((seq[i+2]==\"S\") or seq[i+2]==\"T\") and (seq[i+3]!=\"P\"):\n",
    "            pos.append(str(i+1))\n",
    "    return \" \".join(pos)"
   ]
  },
  {
   "cell_type": "code",
   "execution_count": 35,
   "metadata": {},
   "outputs": [],
   "source": [
    "def Prot_Iterator(path): #find the motif for all the proteins in the file\n",
    "    with open(path) as f:\n",
    "        prot_ids = f.readlines() #proteins are split by line\n",
    "    result = \"\"\n",
    "    for i in prot_ids:\n",
    "        seq = getSeq_UniProt(i.strip())\n",
    "        motif_pos = Brute_Motif(seq)\n",
    "        if len(motif_pos)>0: #if there's at least one match\n",
    "            result += i\n",
    "            result += motif_pos+\"\\n\"\n",
    "    return result"
   ]
  },
  {
   "cell_type": "code",
   "execution_count": 36,
   "metadata": {},
   "outputs": [
    {
     "name": "stdout",
     "output_type": "stream",
     "text": [
      "P80370_DLK_HUMAN\n",
      "100\n",
      "A2A2Y4\n",
      "90 359 407\n",
      "P02749_APOH_HUMAN\n",
      "162 183 193 253\n",
      "P01045_KNH2_BOVIN\n",
      "47 87 168 169 197 204 280\n",
      "P06870_KLK1_HUMAN\n",
      "102 108 165\n",
      "P19835_BAL_HUMAN\n",
      "207\n",
      "P21735\n",
      "22\n",
      "P07925\n",
      "10 49 278\n",
      "B3ET80\n",
      "6\n",
      "P02748_CO9_HUMAN\n",
      "277 415\n",
      "A5F5B4\n",
      "68\n",
      "Q8PV50\n",
      "188 195\n",
      "A8GP89\n",
      "101\n"
     ]
    }
   ],
   "source": [
    "print(Prot_Iterator(\"rosalind_mprt.txt\").strip())"
   ]
  },
  {
   "cell_type": "markdown",
   "metadata": {},
   "source": [
    "# Inferring mRNA from Protein"
   ]
  },
  {
   "cell_type": "markdown",
   "metadata": {},
   "source": [
    "Given: A protein string of length at most 1000 aa.\n",
    "\n",
    "Return: The total number of different RNA strings from which the protein could have been translated, modulo 1,000,000. (Don't neglect the importance of the stop codon in protein translation.)\n",
    "                                                                                                                        \n",
    "from http://rosalind.info/problems/mrna/                "
   ]
  },
  {
   "cell_type": "code",
   "execution_count": 38,
   "metadata": {},
   "outputs": [],
   "source": [
    "def prot_rna_perms(seq):\n",
    "    perms = {\"A\":4,\"C\":2,\"D\":2,\"E\":2,\"F\":2,\"G\":4,\"H\":2,\"I\":3,\"K\":2,\"L\":6,\"M\":1,\"N\":2,\"P\":4,\"Q\":2,\"R\":6,\"S\":6,\"T\":4,\"V\":4,\"W\":1,\"Y\":2} #table of how many codon combinations make up a special amino acid\n",
    "    perm = 1\n",
    "    for i in range(len(seq)):\n",
    "        perm *= perms[seq[i]]\n",
    "        perm = perm % 1000000 #modulo due to the fact that integers are limited in memory (not anymore in python3)\n",
    "    return (perm*3) % 1000000 #Stop Codon"
   ]
  },
  {
   "cell_type": "code",
   "execution_count": 39,
   "metadata": {},
   "outputs": [
    {
     "data": {
      "text/plain": [
       "512512"
      ]
     },
     "execution_count": 39,
     "metadata": {},
     "output_type": "execute_result"
    }
   ],
   "source": [
    "seq = \"MLFNPSEWHGKWDRWYKHSRVAYGHYPPFQFIRFMIHWEEQWKSMKMIFTHTMFHEHRPCGKEFITNEHHFRVDSHTICSQCCYKGHNGVVNSYAISFQSMEKHRMCSASYMRRKQQYMYMDERMSTEPGTVYMGVDSGHVNTYQYANPNWHNEYYWHLHEIDKFMIELHKQKLAWVGHPGCKHRTEWHYAWWIGNLSGIDKHLGWINNLVRALKARGQPVKICPSWFEPYAHCAAEWYSKVMWSLCWMPMYRWVKEWFMTDICPYWWVRQEDKMDFNEQKNVFWYNNCMIIFQTKPNKSEIMTMSWMCYWFRSRCMCCGKWLMLPHWYCVIRAYNEYPIGLINKYKRRCVKVYGFTTLLWQLRQCAIWKEYVFLQNGIVTDAPEPVHITSVCKGVVEWKHCETHKTCENCMKILRGGPKFCDYGPVMPTYHTTWGFTCVKPCKTNHVQFVEFCRVFEDYRGPAAQIHPCYNHDFTAKLPENCCINNQENKYHYTPYLASHERNDSLIWWRIGWHFFPWIPFWGSWVFEDRSRSLAQLNRWGRCPIMKIVVACPVNFDMNEREIVTKHKNVFGPLKEGAAIVVAPKWNDHRWWWLKIVPNGRMNTPEAAAPILKGFDNSVDLSVYRYWTGQLSCMVQFVLVRWTALNWDTCAWVATCQAAQFVEGSRIPNEQVSGLSIQQIYLVPCGQHKRFKEMPELENQPRGDSIAIYARNALLLSINGWRHPVYPYNELTDNTRGNCAGCTPPPLWWQGGTQHCKSRHERSQKGFIQMIMTRQRTLAHCCCVLSTWDHINLWETHRIWMCQHCWSLMFLFVVGPIVKLQNVNWTCNRGNYMFYVIPGKTNTMHTKIALDHRRRCRITQPMGWACFDIHLTVNFAKGYPHITVECARVDASKLTGRDQKHTVTIWEMKCLRTSGRWPHYNMTHCCCETTMKHTWVCAEKMNKQCMKIWQSVSWFMQCNESMTQLFKEFRGQVWQPPSHKDFLDPSDKNQPGGVWMG\"\n",
    "prot_rna_perms(seq)"
   ]
  },
  {
   "cell_type": "markdown",
   "metadata": {},
   "source": [
    "# Open Reading Frames"
   ]
  },
  {
   "cell_type": "markdown",
   "metadata": {},
   "source": [
    "Given: A DNA string s of length at most 1 kbp in FASTA format.\n",
    "\n",
    "Return: Every distinct candidate protein string that can be translated from ORFs of s. Strings can be returned in any order.\n",
    "\n",
    "from http://rosalind.info/problems/orf/"
   ]
  },
  {
   "cell_type": "code",
   "execution_count": 40,
   "metadata": {},
   "outputs": [],
   "source": [
    "def complementary(seq):\n",
    "    seq_comp = \"\"\n",
    "    complement = {\"A\":\"T\",\"C\":\"G\",\"G\":\"C\",\"T\":\"A\"}\n",
    "    for i in range(len(seq)):\n",
    "        seq_comp += complement[seq[i]] #changes nucleotide with complementary nucleotide\n",
    "    return seq_comp\n",
    "\n",
    "def reverse(seq):\n",
    "    return \"\".join([seq[-(i+1)] for i in range(len(seq))]) #goes backwards through the sequence\n",
    "\n",
    "def reverse_comp(seq): #combines complementary with reverse\n",
    "    seq_rev = reverse(seq)\n",
    "    seq_r_c = complementary(seq_rev)\n",
    "    return seq_r_c"
   ]
  },
  {
   "cell_type": "code",
   "execution_count": 41,
   "metadata": {},
   "outputs": [],
   "source": [
    "# RNA to Protein\n",
    "def to_protein(seq):\n",
    "    map = {\"UUU\":\"F\", \"UUC\":\"F\", \"UUA\":\"L\", \"UUG\":\"L\",\n",
    "    \"UCU\":\"S\", \"UCC\":\"S\", \"UCA\":\"S\", \"UCG\":\"S\",\n",
    "    \"UAU\":\"Y\", \"UAC\":\"Y\", \"UAA\":\"STOP\", \"UAG\":\"STOP\",\n",
    "    \"UGU\":\"C\", \"UGC\":\"C\", \"UGA\":\"STOP\", \"UGG\":\"W\",\n",
    "    \"CUU\":\"L\", \"CUC\":\"L\", \"CUA\":\"L\", \"CUG\":\"L\",\n",
    "    \"CCU\":\"P\", \"CCC\":\"P\", \"CCA\":\"P\", \"CCG\":\"P\",\n",
    "    \"CAU\":\"H\", \"CAC\":\"H\", \"CAA\":\"Q\", \"CAG\":\"Q\",\n",
    "    \"CGU\":\"R\", \"CGC\":\"R\", \"CGA\":\"R\", \"CGG\":\"R\",\n",
    "    \"AUU\":\"I\", \"AUC\":\"I\", \"AUA\":\"I\", \"AUG\":\"M\",\n",
    "    \"ACU\":\"T\", \"ACC\":\"T\", \"ACA\":\"T\", \"ACG\":\"T\",\n",
    "    \"AAU\":\"N\", \"AAC\":\"N\", \"AAA\":\"K\", \"AAG\":\"K\",\n",
    "    \"AGU\":\"S\", \"AGC\":\"S\", \"AGA\":\"R\", \"AGG\":\"R\",\n",
    "    \"GUU\":\"V\", \"GUC\":\"V\", \"GUA\":\"V\", \"GUG\":\"V\",\n",
    "    \"GCU\":\"A\", \"GCC\":\"A\", \"GCA\":\"A\", \"GCG\":\"A\",\n",
    "    \"GAU\":\"D\", \"GAC\":\"D\", \"GAA\":\"E\", \"GAG\":\"E\",\n",
    "    \"GGU\":\"G\", \"GGC\":\"G\", \"GGA\":\"G\", \"GGG\":\"G\"}\n",
    "    \n",
    "    protein = \"\" #complete protein sequence\n",
    "    for i in range(len(seq)//3):\n",
    "        prot = map[seq[3*i:3*i+3]] #aminoacid that combined with other aminoacids form the protein\n",
    "        if prot == \"STOP\":\n",
    "            return protein\n",
    "        else:\n",
    "            protein += prot\n",
    "    return \"\"\n",
    "\n",
    "# DNA to RNA\n",
    "def convert_to_rna(seq): #RNA has Uracil instead of Thymin\n",
    "    seq_rna = \"\"\n",
    "    for i in range(len(seq)):\n",
    "        if seq[i] == \"T\":\n",
    "            seq_rna += \"U\"\n",
    "        else:\n",
    "            seq_rna += seq[i]\n",
    "    return seq_rna"
   ]
  },
  {
   "cell_type": "code",
   "execution_count": 42,
   "metadata": {},
   "outputs": [],
   "source": [
    "def o_r_f(seq): #orf = all possible proteins, starting from the start codon until the stop codon, that could be translated from a sequence\n",
    "    orf = []\n",
    "    for i in range(len(seq)-2): \n",
    "        if (seq[i:i+3] == \"ATG\"): #start codon\n",
    "            prot = to_protein(convert_to_rna(seq[i:]))\n",
    "            if len(prot) > 0: #sequences without a stop codon are of length 0\n",
    "                orf.append(prot)\n",
    "    return orf\n",
    "\n",
    "def open_reading_frame(seq):\n",
    "    orf = []\n",
    "    [orf.append(i) for i in o_r_f(seq)] #add all orfs from the original sequence\n",
    "    seq_r_c = reverse_comp(seq)\n",
    "    [orf.append(i) for i in o_r_f(seq_r_c)] #add all orfs from the reversed complementary sequence\n",
    "    return \"\\n\".join(set(orf))"
   ]
  },
  {
   "cell_type": "code",
   "execution_count": 43,
   "metadata": {},
   "outputs": [
    {
     "name": "stdout",
     "output_type": "stream",
     "text": [
      "MGSYLGSRTRLNSKV\n",
      "MLHGLFKSQHR\n",
      "MVDRALLTASNLMTYPPILYISQQ\n",
      "MACLNRNIVS\n",
      "MFNDSLDRATRLVCHVRVVMP\n",
      "MYVAWPV\n",
      "MP\n",
      "MQEVRRMGPFLRYTSGQYIVQLLGR\n",
      "M\n",
      "MTPHPKSKLLHSEVWRVALARPY\n",
      "MPYS\n",
      "MKQTLLHDTITESSLFLPIG\n",
      "MYARGPEGLPRIGTTMVRHLLDQSMMDSLNAVRGE\n",
      "MNR\n",
      "MRRRKSDYDWYDNAVTLNLRVQPRAGSQI\n",
      "MTYPPILYISQQ\n",
      "MQHTSQGKITSEPGIVYLPNYVQRFIRPSHSVGVSREGSYALGWSVNAKKEK\n",
      "MQHDEADTPARHHH\n",
      "MAFYWCRRGSTNSLSIRILGKRFFWAVYALLMILAQKL\n",
      "MILAQKL\n",
      "MVSCRSVCFIMLHGLFKSQHR\n",
      "MSKA\n",
      "MDSLNAVRGE\n",
      "MLRFKQAMQHTSQGKITSEPGIVYLPNYVQRFIRPSHSVGVSREGSYALGWSVNAKKEK\n",
      "MGPFLRYTSGQYIVQLLGR\n",
      "MRRHSPRTAFKLSIILWSSK\n",
      "MVRHLLDQSMMDSLNAVRGE\n",
      "MMDSLNAVRGE\n",
      "MMKQTLLHDTITESSLFLPIG\n",
      "MSSSWRPSVAPCRPSPFSF\n",
      "MGKKRELSVMVSCRSVCFIMLHGLFKSQHR\n",
      "MTPCRKSDVWARS\n",
      "MLRFKQAMQHDEADTPARHHH\n",
      "MEGCARKTLLKRKGRWSTGRY\n"
     ]
    }
   ],
   "source": [
    "seq = read_fasta(\"rosalind_orf.txt\",id = False)[0]\n",
    "print(open_reading_frame(seq))"
   ]
  }
 ],
 "metadata": {
  "kernelspec": {
   "display_name": "Python 3",
   "language": "python",
   "name": "python3"
  },
  "language_info": {
   "codemirror_mode": {
    "name": "ipython",
    "version": 3
   },
   "file_extension": ".py",
   "mimetype": "text/x-python",
   "name": "python",
   "nbconvert_exporter": "python",
   "pygments_lexer": "ipython3",
   "version": "3.7.1"
  }
 },
 "nbformat": 4,
 "nbformat_minor": 2
}
